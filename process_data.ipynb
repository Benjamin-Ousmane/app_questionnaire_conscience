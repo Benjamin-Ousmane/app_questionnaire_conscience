{
 "cells": [
  {
   "cell_type": "code",
   "execution_count": 7,
   "metadata": {},
   "outputs": [
    {
     "data": {
      "text/html": [
       "<div>\n",
       "<style scoped>\n",
       "    .dataframe tbody tr th:only-of-type {\n",
       "        vertical-align: middle;\n",
       "    }\n",
       "\n",
       "    .dataframe tbody tr th {\n",
       "        vertical-align: top;\n",
       "    }\n",
       "\n",
       "    .dataframe thead th {\n",
       "        text-align: right;\n",
       "    }\n",
       "</style>\n",
       "<table border=\"1\" class=\"dataframe\">\n",
       "  <thead>\n",
       "    <tr style=\"text-align: right;\">\n",
       "      <th></th>\n",
       "      <th>Date</th>\n",
       "      <th>Heure</th>\n",
       "      <th>Matricule</th>\n",
       "      <th>Profession</th>\n",
       "      <th>Présence</th>\n",
       "      <th>Eveil</th>\n",
       "      <th>Conscience</th>\n",
       "      <th>Commentaire ?</th>\n",
       "    </tr>\n",
       "  </thead>\n",
       "  <tbody>\n",
       "    <tr>\n",
       "      <th>0</th>\n",
       "      <td>2024-12-02</td>\n",
       "      <td>18:00:00</td>\n",
       "      <td>/</td>\n",
       "      <td>Proche</td>\n",
       "      <td>4.2</td>\n",
       "      <td>5.1</td>\n",
       "      <td>OUI</td>\n",
       "      <td>NaN</td>\n",
       "    </tr>\n",
       "    <tr>\n",
       "      <th>1</th>\n",
       "      <td>2024-12-02</td>\n",
       "      <td>18:10:00</td>\n",
       "      <td>/</td>\n",
       "      <td>Proche</td>\n",
       "      <td>4.1</td>\n",
       "      <td>4.1</td>\n",
       "      <td>OUI</td>\n",
       "      <td>NaN</td>\n",
       "    </tr>\n",
       "    <tr>\n",
       "      <th>2</th>\n",
       "      <td>2024-12-03</td>\n",
       "      <td>10:20:00</td>\n",
       "      <td>1106313</td>\n",
       "      <td>MK</td>\n",
       "      <td>0.9</td>\n",
       "      <td>1.0</td>\n",
       "      <td>OUI</td>\n",
       "      <td>NaN</td>\n",
       "    </tr>\n",
       "  </tbody>\n",
       "</table>\n",
       "</div>"
      ],
      "text/plain": [
       "        Date     Heure Matricule Profession  Présence  Eveil Conscience  \\\n",
       "0 2024-12-02  18:00:00         /     Proche       4.2    5.1        OUI   \n",
       "1 2024-12-02  18:10:00         /     Proche       4.1    4.1        OUI   \n",
       "2 2024-12-03  10:20:00   1106313         MK       0.9    1.0        OUI   \n",
       "\n",
       "  Commentaire ?  \n",
       "0           NaN  \n",
       "1           NaN  \n",
       "2           NaN  "
      ]
     },
     "execution_count": 7,
     "metadata": {},
     "output_type": "execute_result"
    }
   ],
   "source": [
    "import pandas as pd\n",
    "\n",
    "df = pd.read_excel(\"Eval_soignant_001.xlsx\")\n",
    "\n",
    "df.head(3)"
   ]
  },
  {
   "cell_type": "code",
   "execution_count": 8,
   "metadata": {},
   "outputs": [
    {
     "name": "stdout",
     "output_type": "stream",
     "text": [
      "        Date  Heure Matricule Profession  Présence  Eveil Conscience  \\\n",
      "0 2024-12-02  18:00         /     Proche     -0.16   0.02        OUI   \n",
      "1 2024-12-02  18:10         /     Proche     -0.18  -0.18        OUI   \n",
      "2 2024-12-03  10:20   1106313         MK     -0.82  -0.80        OUI   \n",
      "3 2024-12-03  15:49         /        IDE      0.12   0.12        NON   \n",
      "4 2024-12-03  15:49   1087025         AS      0.12   0.12        NON   \n",
      "\n",
      "              Commentaire ?  \n",
      "0                       NaN  \n",
      "1                       NaN  \n",
      "2                       NaN  \n",
      "3  Pas de matricule indiqué  \n",
      "4                       NaN  \n"
     ]
    }
   ],
   "source": [
    "# Convert \"date\" column to datetime.date format\n",
    "df[\"Date\"] = pd.to_datetime(df[\"Date\"]).dt.normalize()\n",
    "\n",
    "# Convert \"heure\" column to HH:MM format (string)\n",
    "df[\"Heure\"] = pd.to_datetime(df[\"Heure\"], format=\"%H:%M:%S\").dt.strftime(\"%H:%M\")\n",
    "\n",
    "# Normalize \"Présence\" and \"Eveil\" to range [-1, 1]\n",
    "df[\"Présence\"] = df[\"Présence\"] / 5 - 1\n",
    "df[\"Eveil\"] = df[\"Eveil\"] / 5 - 1\n",
    "\n",
    "# Display result\n",
    "print(df.head())"
   ]
  },
  {
   "cell_type": "code",
   "execution_count": 6,
   "metadata": {},
   "outputs": [],
   "source": [
    "df.to_excel(\"eval_conscience_data_001_modify.xlsx\") "
   ]
  }
 ],
 "metadata": {
  "kernelspec": {
   "display_name": "base",
   "language": "python",
   "name": "python3"
  },
  "language_info": {
   "codemirror_mode": {
    "name": "ipython",
    "version": 3
   },
   "file_extension": ".py",
   "mimetype": "text/x-python",
   "name": "python",
   "nbconvert_exporter": "python",
   "pygments_lexer": "ipython3",
   "version": "3.12.3"
  }
 },
 "nbformat": 4,
 "nbformat_minor": 2
}
